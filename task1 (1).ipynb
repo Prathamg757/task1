{
 "cells": [
  {
   "cell_type": "code",
   "execution_count": 13,
   "id": "d9facca9-81e1-45ab-b01b-73bbe89925ad",
   "metadata": {},
   "outputs": [],
   "source": [
    "#solution1\n",
    "list1=[1,2,3,4,[44,55,66,True],False,(34,56,78,89,34),{1,2,3,3,2,1},\n",
    "      {1:34,\"key2\":[55,67,78,89],4:(45,22,61,34)},[56,'data science'],'machine learning']\n",
    "def flat_list_product(a):\n",
    "    flat_list = []\n",
    "    for i in a:\n",
    "        if type(i)== int:\n",
    "            flat_list.append(i)\n",
    "            \n",
    "        else:\n",
    "            if type(i)==list or type(i)==tuple or type(i)==set:\n",
    "                for j in i:\n",
    "                    if type(j)==int:\n",
    "                        flat_list.append(j)\n",
    "            else:\n",
    "                if type(i)==dict:\n",
    "                    for k,v in i.items():\n",
    "                        if type(k)!=str:\n",
    "                            flat_list.append(k)\n",
    "                        if type(v)!=str:\n",
    "                            flat_list.append(v)\n",
    "    return flat_list "
   ]
  },
  {
   "cell_type": "code",
   "execution_count": 8,
   "id": "4e3a5fc5-14ac-432a-8389-0e72fc30e364",
   "metadata": {},
   "outputs": [
    {
     "name": "stdout",
     "output_type": "stream",
     "text": [
      "[1, 2, 3, 4, 44, 55, 66, 34, 56, 78, 89, 34, 1, 2, 3, 1, 34, [55, 67, 78, 89], 4, (45, 22, 61, 34), 56]\n"
     ]
    }
   ],
   "source": [
    "print(flat_list_product(list1))"
   ]
  },
  {
   "cell_type": "code",
   "execution_count": 15,
   "id": "08252783-1e02-4e03-ab6f-5065fe9869ca",
   "metadata": {},
   "outputs": [],
   "source": [
    "list2=flat_list_product(list1)    "
   ]
  },
  {
   "cell_type": "code",
   "execution_count": 18,
   "id": "174f90da-0b76-4cc3-87a8-066a512a2411",
   "metadata": {},
   "outputs": [
    {
     "name": "stdout",
     "output_type": "stream",
     "text": [
      "[1, 2, 3, 4, 44, 55, 66, 34, 56, 78, 89, 34, 1, 2, 3, 1, 34, 55, 67, 78, 89, 4, 45, 22, 61, 34, 56]\n",
      "4134711838987085478833841242112000\n"
     ]
    }
   ],
   "source": [
    "list2 = [1, 2, 3, 4, 44, 55, 66, 34, 56, 78, 89, 34, 1, 2, 3, 1, 34, [55, 67, 78, 89], 4, (45, 22, 61, 34), 56]\n",
    "new_list = []\n",
    "\n",
    "def extract_numbers(lst):\n",
    "    for elem in lst:\n",
    "        if isinstance(elem, int):\n",
    "            new_list.append(elem)\n",
    "        elif isinstance(elem, (list, tuple)):\n",
    "            extract_numbers(elem)\n",
    "\n",
    "extract_numbers(list2)\n",
    "print(new_list)\n",
    "\n",
    "product=1\n",
    "for i in new_list:\n",
    "    product=product*i\n",
    "print(product)    "
   ]
  },
  {
   "cell_type": "code",
   "execution_count": 17,
   "id": "b0ee0fb0-30bf-4fa7-9eae-cd326efbcd5e",
   "metadata": {},
   "outputs": [
    {
     "name": "stdout",
     "output_type": "stream",
     "text": [
      "r$dzmg$gl$yvxlnv$z$wzgz$hxrvmgrhg.\n"
     ]
    }
   ],
   "source": [
    "#solution 2\n",
    "def encrypt_message(message):\n",
    "    encryption_map = {'a': 'z', 'b': 'y', 'c': 'x', 'd': 'w', 'e': 'v',\n",
    "                      'f': 'u', 'g': 't', 'h': 's', 'i': 'r', 'j': 'q',\n",
    "                      'k': 'p', 'l': 'o', 'm': 'n', 'n': 'm', 'o': 'l',\n",
    "                      'p': 'k', 'q': 'j', 'r': 'i', 's': 'h', 't': 'g',\n",
    "                      'u': 'f', 'v': 'e', 'w': 'd', 'x': 'c', 'y': 'b',\n",
    "                      'z': 'a', ' ': '$'}\n",
    "    message = message.lower()\n",
    "    encrypted_message = \"\"\n",
    "    for char in message:\n",
    "        if char in encryption_map:\n",
    "            encrypted_message += encryption_map[char]\n",
    "        else:\n",
    "            encrypted_message += char\n",
    "    return encrypted_message\n",
    "\n",
    "message = \"I want to become a Data Scientist.\"\n",
    "print(encrypt_message(message))\n"
   ]
  },
  {
   "cell_type": "code",
   "execution_count": null,
   "id": "25127f18-096b-49ac-88b8-2d620485118e",
   "metadata": {},
   "outputs": [],
   "source": []
  }
 ],
 "metadata": {
  "kernelspec": {
   "display_name": "Python 3 (ipykernel)",
   "language": "python",
   "name": "python3"
  },
  "language_info": {
   "codemirror_mode": {
    "name": "ipython",
    "version": 3
   },
   "file_extension": ".py",
   "mimetype": "text/x-python",
   "name": "python",
   "nbconvert_exporter": "python",
   "pygments_lexer": "ipython3",
   "version": "3.10.6"
  }
 },
 "nbformat": 4,
 "nbformat_minor": 5
}
