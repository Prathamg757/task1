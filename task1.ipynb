{
 "cells": [
  {
   "cell_type": "code",
   "execution_count": 16,
   "id": "d9facca9-81e1-45ab-b01b-73bbe89925ad",
   "metadata": {},
   "outputs": [
    {
     "name": "stdout",
     "output_type": "stream",
     "text": [
      "19679733278309744640\n"
     ]
    }
   ],
   "source": [
    "#solution1\n",
    "def flat_list_product(a):\n",
    "    flat_list = []\n",
    "    for i in a:\n",
    "        if type(i) in [int,float]:\n",
    "            flat_list.append(i)\n",
    "        elif type(i)==list:\n",
    "            flat_list +=flat_list_product(i)\n",
    "        elif type(i)== tuple or type(i)== set:\n",
    "            flat_list+=[j for j in i if type(j) in [int,float]]\n",
    "        elif type(i)== dict:\n",
    "             flat_list+=[j for j in i.values() if type(j) in [int,float]]\n",
    "             #flat_list+=[j for j in i.keys() if type(j) in [int,float]]\n",
    "            \n",
    "    return flat_list \n",
    "list1=[1,2,3,4,[44,55,66,True],False,(34,56,78,89,34),{1,2,3,3,2,1},\n",
    "      {1:34,\"key2\":[55,67,78,89],4:(45,22,61,34)},[56,'data science'],'machine learning']\n",
    "result=flat_list_product(list1)\n",
    "product =1\n",
    "for i in result:\n",
    "     product = product*i\n",
    "print(product)                       \n",
    "                        "
   ]
  },
  {
   "cell_type": "code",
   "execution_count": 11,
   "id": "5be2e33a-4693-4bc8-8769-c2f2fee2b927",
   "metadata": {},
   "outputs": [
    {
     "data": {
      "text/plain": [
       "[1, 2, 3, 4, 44, 55, 66, 34, 56, 78, 89, 34, 1, 2, 3, 34, 56]"
      ]
     },
     "execution_count": 11,
     "metadata": {},
     "output_type": "execute_result"
    }
   ],
   "source": [
    "flat_list_product(list1)"
   ]
  },
  {
   "cell_type": "code",
   "execution_count": 17,
   "id": "b0ee0fb0-30bf-4fa7-9eae-cd326efbcd5e",
   "metadata": {},
   "outputs": [
    {
     "name": "stdout",
     "output_type": "stream",
     "text": [
      "r$dzmg$gl$yvxlnv$z$wzgz$hxrvmgrhg.\n"
     ]
    }
   ],
   "source": [
    "#solution 2\n",
    "def encrypt_message(message):\n",
    "    encryption_map = {'a': 'z', 'b': 'y', 'c': 'x', 'd': 'w', 'e': 'v',\n",
    "                      'f': 'u', 'g': 't', 'h': 's', 'i': 'r', 'j': 'q',\n",
    "                      'k': 'p', 'l': 'o', 'm': 'n', 'n': 'm', 'o': 'l',\n",
    "                      'p': 'k', 'q': 'j', 'r': 'i', 's': 'h', 't': 'g',\n",
    "                      'u': 'f', 'v': 'e', 'w': 'd', 'x': 'c', 'y': 'b',\n",
    "                      'z': 'a', ' ': '$'}\n",
    "    message = message.lower()\n",
    "    encrypted_message = \"\"\n",
    "    for char in message:\n",
    "        if char in encryption_map:\n",
    "            encrypted_message += encryption_map[char]\n",
    "        else:\n",
    "            encrypted_message += char\n",
    "    return encrypted_message\n",
    "\n",
    "message = \"I want to become a Data Scientist.\"\n",
    "print(encrypt_message(message))\n"
   ]
  },
  {
   "cell_type": "code",
   "execution_count": null,
   "id": "25127f18-096b-49ac-88b8-2d620485118e",
   "metadata": {},
   "outputs": [],
   "source": []
  }
 ],
 "metadata": {
  "kernelspec": {
   "display_name": "Python 3 (ipykernel)",
   "language": "python",
   "name": "python3"
  },
  "language_info": {
   "codemirror_mode": {
    "name": "ipython",
    "version": 3
   },
   "file_extension": ".py",
   "mimetype": "text/x-python",
   "name": "python",
   "nbconvert_exporter": "python",
   "pygments_lexer": "ipython3",
   "version": "3.10.6"
  }
 },
 "nbformat": 4,
 "nbformat_minor": 5
}
